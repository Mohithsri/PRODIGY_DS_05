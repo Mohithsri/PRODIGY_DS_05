{
  "nbformat": 4,
  "nbformat_minor": 0,
  "metadata": {
    "colab": {
      "provenance": [],
      "authorship_tag": "ABX9TyMnQWD92Xb/MyEukZB6Y+6X",
      "include_colab_link": true
    },
    "kernelspec": {
      "name": "python3",
      "display_name": "Python 3"
    },
    "language_info": {
      "name": "python"
    }
  },
  "cells": [
    {
      "cell_type": "markdown",
      "metadata": {
        "id": "view-in-github",
        "colab_type": "text"
      },
      "source": [
        "<a href=\"https://colab.research.google.com/github/Mohithsri/PRODIGY_DS_05/blob/main/PRODIGY_DS_05.ipynb\" target=\"_parent\"><img src=\"https://colab.research.google.com/assets/colab-badge.svg\" alt=\"Open In Colab\"/></a>"
      ]
    },
    {
      "cell_type": "code",
      "execution_count": 7,
      "metadata": {
        "id": "PKsqG0dyj9XH",
        "colab": {
          "base_uri": "https://localhost:8080/",
          "height": 781
        },
        "outputId": "f3f294bc-e7b6-4c76-d71a-78bb785f467c"
      },
      "outputs": [
        {
          "output_type": "execute_result",
          "data": {
            "text/plain": [
              "<folium.folium.Map at 0x7bff264b72b0>"
            ],
            "text/html": [
              "<div style=\"width:100%;\"><div style=\"position:relative;width:100%;height:0;padding-bottom:60%;\"><span style=\"color:#565656\">Make this Notebook Trusted to load map: File -> Trust Notebook</span><iframe srcdoc=\"&lt;!DOCTYPE html&gt;\n",
              "&lt;html&gt;\n",
              "&lt;head&gt;\n",
              "    \n",
              "    &lt;meta http-equiv=&quot;content-type&quot; content=&quot;text/html; charset=UTF-8&quot; /&gt;\n",
              "    \n",
              "        &lt;script&gt;\n",
              "            L_NO_TOUCH = false;\n",
              "            L_DISABLE_3D = false;\n",
              "        &lt;/script&gt;\n",
              "    \n",
              "    &lt;style&gt;html, body {width: 100%;height: 100%;margin: 0;padding: 0;}&lt;/style&gt;\n",
              "    &lt;style&gt;#map {position:absolute;top:0;bottom:0;right:0;left:0;}&lt;/style&gt;\n",
              "    &lt;script src=&quot;https://cdn.jsdelivr.net/npm/leaflet@1.9.3/dist/leaflet.js&quot;&gt;&lt;/script&gt;\n",
              "    &lt;script src=&quot;https://code.jquery.com/jquery-1.12.4.min.js&quot;&gt;&lt;/script&gt;\n",
              "    &lt;script src=&quot;https://cdn.jsdelivr.net/npm/bootstrap@5.2.2/dist/js/bootstrap.bundle.min.js&quot;&gt;&lt;/script&gt;\n",
              "    &lt;script src=&quot;https://cdnjs.cloudflare.com/ajax/libs/Leaflet.awesome-markers/2.0.2/leaflet.awesome-markers.js&quot;&gt;&lt;/script&gt;\n",
              "    &lt;link rel=&quot;stylesheet&quot; href=&quot;https://cdn.jsdelivr.net/npm/leaflet@1.9.3/dist/leaflet.css&quot;/&gt;\n",
              "    &lt;link rel=&quot;stylesheet&quot; href=&quot;https://cdn.jsdelivr.net/npm/bootstrap@5.2.2/dist/css/bootstrap.min.css&quot;/&gt;\n",
              "    &lt;link rel=&quot;stylesheet&quot; href=&quot;https://netdna.bootstrapcdn.com/bootstrap/3.0.0/css/bootstrap.min.css&quot;/&gt;\n",
              "    &lt;link rel=&quot;stylesheet&quot; href=&quot;https://cdn.jsdelivr.net/npm/@fortawesome/fontawesome-free@6.2.0/css/all.min.css&quot;/&gt;\n",
              "    &lt;link rel=&quot;stylesheet&quot; href=&quot;https://cdnjs.cloudflare.com/ajax/libs/Leaflet.awesome-markers/2.0.2/leaflet.awesome-markers.css&quot;/&gt;\n",
              "    &lt;link rel=&quot;stylesheet&quot; href=&quot;https://cdn.jsdelivr.net/gh/python-visualization/folium/folium/templates/leaflet.awesome.rotate.min.css&quot;/&gt;\n",
              "    \n",
              "            &lt;meta name=&quot;viewport&quot; content=&quot;width=device-width,\n",
              "                initial-scale=1.0, maximum-scale=1.0, user-scalable=no&quot; /&gt;\n",
              "            &lt;style&gt;\n",
              "                #map_7f666cc753ca974498f9f315e4f45bb7 {\n",
              "                    position: relative;\n",
              "                    width: 100.0%;\n",
              "                    height: 100.0%;\n",
              "                    left: 0.0%;\n",
              "                    top: 0.0%;\n",
              "                }\n",
              "                .leaflet-container { font-size: 1rem; }\n",
              "            &lt;/style&gt;\n",
              "        \n",
              "    &lt;script src=&quot;https://cdn.jsdelivr.net/gh/python-visualization/folium@main/folium/templates/leaflet_heat.min.js&quot;&gt;&lt;/script&gt;\n",
              "&lt;/head&gt;\n",
              "&lt;body&gt;\n",
              "    \n",
              "    \n",
              "            &lt;div class=&quot;folium-map&quot; id=&quot;map_7f666cc753ca974498f9f315e4f45bb7&quot; &gt;&lt;/div&gt;\n",
              "        \n",
              "&lt;/body&gt;\n",
              "&lt;script&gt;\n",
              "    \n",
              "    \n",
              "            var map_7f666cc753ca974498f9f315e4f45bb7 = L.map(\n",
              "                &quot;map_7f666cc753ca974498f9f315e4f45bb7&quot;,\n",
              "                {\n",
              "                    center: [20.5937, 78.9629],\n",
              "                    crs: L.CRS.EPSG3857,\n",
              "                    zoom: 5,\n",
              "                    zoomControl: true,\n",
              "                    preferCanvas: false,\n",
              "                }\n",
              "            );\n",
              "\n",
              "            \n",
              "\n",
              "        \n",
              "    \n",
              "            var tile_layer_df2b67b31555fbd607a91a6679d147f1 = L.tileLayer(\n",
              "                &quot;https://{s}.tile.openstreetmap.org/{z}/{x}/{y}.png&quot;,\n",
              "                {&quot;attribution&quot;: &quot;Data by \\u0026copy; \\u003ca target=\\&quot;_blank\\&quot; href=\\&quot;http://openstreetmap.org\\&quot;\\u003eOpenStreetMap\\u003c/a\\u003e, under \\u003ca target=\\&quot;_blank\\&quot; href=\\&quot;http://www.openstreetmap.org/copyright\\&quot;\\u003eODbL\\u003c/a\\u003e.&quot;, &quot;detectRetina&quot;: false, &quot;maxNativeZoom&quot;: 18, &quot;maxZoom&quot;: 18, &quot;minZoom&quot;: 0, &quot;noWrap&quot;: false, &quot;opacity&quot;: 1, &quot;subdomains&quot;: &quot;abc&quot;, &quot;tms&quot;: false}\n",
              "            ).addTo(map_7f666cc753ca974498f9f315e4f45bb7);\n",
              "        \n",
              "    \n",
              "            var heat_map_1e0bfbabc88f501042ed7b55ad1a0870 = L.heatLayer(\n",
              "                [[31.820334154189478, 95.8560078808008], [26.038713219834943, 71.03115656026341], [28.39384137339727, 68.23702238280244], [15.595557793572382, 93.5825348533889], [13.452554738865803, 75.25591930019509], [17.787961094373916, 87.85368829651124], [9.488266271848797, 72.6599729361066], [11.552263427812896, 82.17175072216217], [17.87008005226049, 90.12566702533998], [8.224411275460376, 93.4324663550211], [14.450961233377889, 68.35964338294848], [8.809556993423056, 78.17491597731731], [8.370317104331527, 69.85563230006996], [28.94756116223511, 89.85606456737814], [14.310684520266406, 83.45378092768239], [8.316921943718496, 90.65898296046589], [26.611891478881674, 85.63988866167313], [20.60634379169107, 75.40678783367078], [31.13350708468122, 78.15280208658906], [27.629649803237122, 79.61141577013194], [11.2326035016542, 79.31118158515518], [21.497493340600712, 97.19247150898114], [20.8382408493792, 89.20008090697773], [9.934652283639107, 81.04543240544265], [18.810674653837708, 97.07282810769757], [23.85623971273092, 80.03976099826929], [16.54999515204564, 85.45927667700366], [27.36119288211344, 90.10360224724468], [13.245275144556759, 97.67778210941981], [8.325815196206728, 89.79589932364189], [26.96113694522564, 92.82365896012067], [17.268824039519618, 72.87894855855946], [17.45935584912891, 83.76196676967491], [29.002963980968104, 90.76084929365756], [29.998946455790723, 80.68822068330279], [15.71703300971313, 83.36505055478814], [26.91404728165669, 85.57800167298669], [20.352242814569905, 82.19561351419631], [19.72002887412469, 88.62020798058126], [19.898183352210545, 83.71958702872713], [10.540360910857018, 72.17847224173327], [25.80133956876144, 92.7071878928441], [20.150444490238023, 95.74095430138989], [8.66621677253362, 71.22900903909715], [31.119128707932553, 96.78320701711098], [24.828339417114265, 69.49812668479555], [22.566499546585238, 81.08987875770485], [15.440157034386942, 80.87660626746626], [30.23219257796878, 88.94758071226182], [24.422890853788427, 83.56133927820441], [26.514882217330566, 76.04968066160993], [31.57612630061644, 92.56206856584797], [15.769874529793505, 88.16608095382281], [23.122524999653542, 97.01428293094368], [27.31859309457701, 82.49141333157644], [12.70288432235712, 83.637164559478], [12.70067481334947, 88.5845408277932], [31.622440892104795, 83.04933870218575], [11.28162218153222, 84.2937806403757], [19.229800097954104, 84.42348673827742], [8.720033038791932, 78.95024923957952], [14.430576836441617, 91.75434848299716], [14.520431126918858, 94.22126105511063], [29.31197681073124, 82.68370789809327], [18.633038751644975, 78.96120868552616], [15.941131621292005, 96.40399229126311], [16.605356082718025, 71.18260377198516], [22.62948013693027, 70.14075740063723], [31.190427274786764, 75.56656802907159], [24.907164925938606, 95.77050814106241], [21.146607437963166, 95.83313122854645], [15.502871006329555, 75.19377719342076], [24.273765804965002, 74.49748071678354], [17.25570852954729, 92.29905582632136], [18.271353898158623, 79.84215594877348], [10.83556772736793, 81.81502162242084], [31.47276684762052, 96.22319453567872], [31.726956195131265, 93.7443863011961], [16.129046347382143, 78.2424975380392], [12.956058311949064, 76.00222882843222], [10.814642547221826, 83.64912190450568], [16.241208460255734, 77.25299703041144], [19.52348099201778, 86.88254916401607], [26.58402416380481, 89.13597487932476], [28.038286481272944, 80.9874710985924], [8.972128209172729, 93.36860682991883], [31.09626160019468, 71.54806013560584], [29.08134083839322, 90.6792340063564], [25.43745301631565, 95.03539219457049], [29.671717698243796, 78.42006315708397], [23.335978756612867, 80.04473697728018], [21.269363438612352, 84.63632010827374], [23.8640139390532, 72.37089433190067], [14.024879872964501, 97.08885894824957], [15.167793456932621, 79.95342281879294], [22.296264009385837, 88.12197923632144], [29.35395637784461, 97.76832755026601], [12.08288740207594, 77.43316551940532], [12.893269669733836, 97.05729500884826], [26.600770230831426, 75.61413436614491]],\n",
              "                {&quot;blur&quot;: 15, &quot;maxZoom&quot;: 18, &quot;minOpacity&quot;: 0.5, &quot;radius&quot;: 25}\n",
              "            ).addTo(map_7f666cc753ca974498f9f315e4f45bb7);\n",
              "        \n",
              "&lt;/script&gt;\n",
              "&lt;/html&gt;\" style=\"position:absolute;width:100%;height:100%;left:0;top:0;border:none !important;\" allowfullscreen webkitallowfullscreen mozallowfullscreen></iframe></div></div>"
            ]
          },
          "metadata": {},
          "execution_count": 7
        }
      ],
      "source": [
        "import pandas as pd\n",
        "import random\n",
        "import folium\n",
        "from folium.plugins import HeatMap\n",
        "\n",
        "# Sample data for demonstration\n",
        "data = {\n",
        "    'Accident_ID': list(range(1, 101)),  # Unique ID for each accident\n",
        "    'Latitude': [random.uniform(8, 32) for _ in range(100)],  # Random latitude values within India's range\n",
        "    'Longitude': [random.uniform(68, 98) for _ in range(100)],  # Random longitude values within India's range\n",
        "    'Accident_Description': ['Accident {}'.format(i) for i in range(1, 101)],  # Description of the accident\n",
        "    'Road_Conditions': [random.choice(['Dry', 'Wet', 'Snow', 'Ice']) for _ in range(100)],  # Random road conditions\n",
        "    'Weather_Conditions': [random.choice(['Clear', 'Cloudy', 'Rainy', 'Foggy']) for _ in range(100)],  # Random weather conditions\n",
        "    'Time': [random.randint(0, 23) for _ in range(100)]  # Random time of day (0-23 hours)\n",
        "}\n",
        "\n",
        "# Create DataFrame\n",
        "df = pd.DataFrame(data)\n",
        "\n",
        "# Create a map centered around a specific location in India\n",
        "m = folium.Map(location=[20.5937, 78.9629], zoom_start=5)\n",
        "\n",
        "# Add heatmap of accident hotspots\n",
        "heat_data = [[row['Latitude'], row['Longitude']] for index, row in df.iterrows()]\n",
        "HeatMap(heat_data).add_to(m)\n",
        "\n",
        "# Save the map as an HTML file\n",
        "m.save('accident_heatmap.html')\n",
        "\n",
        "# Display the map\n",
        "m\n",
        "\n"
      ]
    }
  ]
}