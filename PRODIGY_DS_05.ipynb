{
  "nbformat": 4,
  "nbformat_minor": 0,
  "metadata": {
    "colab": {
      "provenance": [],
      "authorship_tag": "ABX9TyM2Zpt4pJmvNWB7+q2GweYq",
      "include_colab_link": true
    },
    "kernelspec": {
      "name": "python3",
      "display_name": "Python 3"
    },
    "language_info": {
      "name": "python"
    }
  },
  "cells": [
    {
      "cell_type": "markdown",
      "metadata": {
        "id": "view-in-github",
        "colab_type": "text"
      },
      "source": [
        "<a href=\"https://colab.research.google.com/github/Mohithsri/PRODIGY_DS_05/blob/main/PRODIGY_DS_05.ipynb\" target=\"_parent\"><img src=\"https://colab.research.google.com/assets/colab-badge.svg\" alt=\"Open In Colab\"/></a>"
      ]
    },
    {
      "cell_type": "code",
      "execution_count": 12,
      "metadata": {
        "id": "PKsqG0dyj9XH",
        "colab": {
          "base_uri": "https://localhost:8080/",
          "height": 781
        },
        "outputId": "cc2a63a3-12a1-4aa4-f2c9-4c76b43ead35"
      },
      "outputs": [
        {
          "output_type": "execute_result",
          "data": {
            "text/plain": [
              "<folium.folium.Map at 0x7bff2629f040>"
            ],
            "text/html": [
              "<div style=\"width:100%;\"><div style=\"position:relative;width:100%;height:0;padding-bottom:60%;\"><span style=\"color:#565656\">Make this Notebook Trusted to load map: File -> Trust Notebook</span><iframe srcdoc=\"&lt;!DOCTYPE html&gt;\n",
              "&lt;html&gt;\n",
              "&lt;head&gt;\n",
              "    \n",
              "    &lt;meta http-equiv=&quot;content-type&quot; content=&quot;text/html; charset=UTF-8&quot; /&gt;\n",
              "    \n",
              "        &lt;script&gt;\n",
              "            L_NO_TOUCH = false;\n",
              "            L_DISABLE_3D = false;\n",
              "        &lt;/script&gt;\n",
              "    \n",
              "    &lt;style&gt;html, body {width: 100%;height: 100%;margin: 0;padding: 0;}&lt;/style&gt;\n",
              "    &lt;style&gt;#map {position:absolute;top:0;bottom:0;right:0;left:0;}&lt;/style&gt;\n",
              "    &lt;script src=&quot;https://cdn.jsdelivr.net/npm/leaflet@1.9.3/dist/leaflet.js&quot;&gt;&lt;/script&gt;\n",
              "    &lt;script src=&quot;https://code.jquery.com/jquery-1.12.4.min.js&quot;&gt;&lt;/script&gt;\n",
              "    &lt;script src=&quot;https://cdn.jsdelivr.net/npm/bootstrap@5.2.2/dist/js/bootstrap.bundle.min.js&quot;&gt;&lt;/script&gt;\n",
              "    &lt;script src=&quot;https://cdnjs.cloudflare.com/ajax/libs/Leaflet.awesome-markers/2.0.2/leaflet.awesome-markers.js&quot;&gt;&lt;/script&gt;\n",
              "    &lt;link rel=&quot;stylesheet&quot; href=&quot;https://cdn.jsdelivr.net/npm/leaflet@1.9.3/dist/leaflet.css&quot;/&gt;\n",
              "    &lt;link rel=&quot;stylesheet&quot; href=&quot;https://cdn.jsdelivr.net/npm/bootstrap@5.2.2/dist/css/bootstrap.min.css&quot;/&gt;\n",
              "    &lt;link rel=&quot;stylesheet&quot; href=&quot;https://netdna.bootstrapcdn.com/bootstrap/3.0.0/css/bootstrap.min.css&quot;/&gt;\n",
              "    &lt;link rel=&quot;stylesheet&quot; href=&quot;https://cdn.jsdelivr.net/npm/@fortawesome/fontawesome-free@6.2.0/css/all.min.css&quot;/&gt;\n",
              "    &lt;link rel=&quot;stylesheet&quot; href=&quot;https://cdnjs.cloudflare.com/ajax/libs/Leaflet.awesome-markers/2.0.2/leaflet.awesome-markers.css&quot;/&gt;\n",
              "    &lt;link rel=&quot;stylesheet&quot; href=&quot;https://cdn.jsdelivr.net/gh/python-visualization/folium/folium/templates/leaflet.awesome.rotate.min.css&quot;/&gt;\n",
              "    \n",
              "            &lt;meta name=&quot;viewport&quot; content=&quot;width=device-width,\n",
              "                initial-scale=1.0, maximum-scale=1.0, user-scalable=no&quot; /&gt;\n",
              "            &lt;style&gt;\n",
              "                #map_009534056ffa828a451b7daa3d7acef9 {\n",
              "                    position: relative;\n",
              "                    width: 100.0%;\n",
              "                    height: 100.0%;\n",
              "                    left: 0.0%;\n",
              "                    top: 0.0%;\n",
              "                }\n",
              "                .leaflet-container { font-size: 1rem; }\n",
              "            &lt;/style&gt;\n",
              "        \n",
              "    &lt;script src=&quot;https://cdn.jsdelivr.net/gh/python-visualization/folium@main/folium/templates/leaflet_heat.min.js&quot;&gt;&lt;/script&gt;\n",
              "&lt;/head&gt;\n",
              "&lt;body&gt;\n",
              "    \n",
              "    \n",
              "            &lt;div class=&quot;folium-map&quot; id=&quot;map_009534056ffa828a451b7daa3d7acef9&quot; &gt;&lt;/div&gt;\n",
              "        \n",
              "&lt;/body&gt;\n",
              "&lt;script&gt;\n",
              "    \n",
              "    \n",
              "            var map_009534056ffa828a451b7daa3d7acef9 = L.map(\n",
              "                &quot;map_009534056ffa828a451b7daa3d7acef9&quot;,\n",
              "                {\n",
              "                    center: [20.5937, 78.9629],\n",
              "                    crs: L.CRS.EPSG3857,\n",
              "                    zoom: 5,\n",
              "                    zoomControl: true,\n",
              "                    preferCanvas: false,\n",
              "                }\n",
              "            );\n",
              "\n",
              "            \n",
              "\n",
              "        \n",
              "    \n",
              "            var tile_layer_611074af8d13824456c921b12d7660e4 = L.tileLayer(\n",
              "                &quot;https://{s}.tile.openstreetmap.org/{z}/{x}/{y}.png&quot;,\n",
              "                {&quot;attribution&quot;: &quot;Data by \\u0026copy; \\u003ca target=\\&quot;_blank\\&quot; href=\\&quot;http://openstreetmap.org\\&quot;\\u003eOpenStreetMap\\u003c/a\\u003e, under \\u003ca target=\\&quot;_blank\\&quot; href=\\&quot;http://www.openstreetmap.org/copyright\\&quot;\\u003eODbL\\u003c/a\\u003e.&quot;, &quot;detectRetina&quot;: false, &quot;maxNativeZoom&quot;: 18, &quot;maxZoom&quot;: 18, &quot;minZoom&quot;: 0, &quot;noWrap&quot;: false, &quot;opacity&quot;: 1, &quot;subdomains&quot;: &quot;abc&quot;, &quot;tms&quot;: false}\n",
              "            ).addTo(map_009534056ffa828a451b7daa3d7acef9);\n",
              "        \n",
              "    \n",
              "            var heat_map_6a776c441a610c02d8e9ce81bff234fa = L.heatLayer(\n",
              "                [[13.121821601889927, 70.55177581834076], [9.645244770116037, 73.86519432512132], [9.783340434826282, 97.8756423712302], [20.685706755306217, 85.11378984106834], [12.065304485322454, 74.3613931231973], [12.905119634856135, 74.70679256749315], [23.950178631973188, 96.11718546346735], [15.373551587393923, 76.18263397417566], [11.733731822459337, 85.0325006123919], [25.095221020960814, 82.13818857996695], [16.625261718879518, 79.68655730834531], [11.8532614910972, 74.25377183327556], [17.018522033499764, 95.69549411055553], [12.228877002512515, 74.71363707415848], [28.538760060497502, 93.64219714332765], [22.384241382606014, 74.92648929723403], [30.88163809216233, 94.2978188129149], [30.194037989268594, 96.55991199166705], [15.631657681381231, 91.52269979538767], [22.920782832945978, 86.02002314582066], [21.38832144155954, 89.0183985336456], [17.616268323186997, 91.94006629658034], [18.38172762841458, 68.61945680365882], [30.87074183407176, 75.0716206652193], [17.88730666008188, 87.39343844268669], [12.349601536057127, 88.43224567878862], [29.138781467926027, 92.87004945034006], [25.174045074626427, 76.84616646622827], [24.21898027866325, 95.59796076298294], [20.042724525345747, 73.8403737423845], [23.117263766249685, 74.67140186935563], [13.285891015711162, 75.9048282564811], [16.82440802497448, 75.4039795353168], [31.94283580452426, 77.43994756362191], [29.38044487934745, 84.19427891358215], [11.656455862558808, 78.41133117923981], [20.74139639016354, 92.67174526421994], [25.387543942606037, 80.81103523802662], [9.755347472202498, 76.491178295128], [17.140177521850177, 96.87254700160487], [22.395289779764653, 69.2911851015204], [19.80701453932855, 73.99007114191207], [9.184612856243813, 78.22748745770109], [10.251649479824156, 73.90650329039794], [27.124034522086667, 68.72962832197541], [15.305996510342887, 68.08215855292138], [17.611251555913174, 93.83571748254656], [25.579885447343187, 86.33419740992501], [20.9961134068553, 93.9296584896204], [8.365724958455724, 68.19444031629425], [22.331091861174002, 74.26521847994724], [9.474691128192834, 68.8302364726532], [12.982064168496818, 70.48784915281765], [25.833052279102276, 77.2217236890505], [26.910031258043567, 81.97448487375145], [31.831538906565385, 79.40424248842162], [11.365908888833841, 80.29095365369442], [13.875831020994415, 94.87387938792234], [20.825227590186234, 76.46384961546727], [26.494857158972845, 68.46913062271774], [15.682980556999386, 96.56418456133676], [27.684924486027146, 77.17665016835541], [19.63126293540968, 76.7150739815599], [27.814525105375267, 85.88858083844596], [29.09635171784855, 73.38807521055115], [28.014229433170815, 83.45022347686557], [16.325215543727083, 90.58454530284118], [27.63429529918865, 97.32068696112799], [18.003068546008368, 93.19467053970253], [14.35462424584767, 70.36239504596469], [20.83145939730504, 70.37510668031676], [26.884405133117, 70.23636621739152], [22.21283478296896, 92.70675177038747], [17.266758684137365, 77.96480754859196], [19.30872036078768, 96.37814175315579], [26.72197721957697, 72.20654519869593], [30.176638520097043, 96.91031228129559], [27.61693844927428, 75.00381996279697], [19.67629492254125, 74.70797242584081], [28.095922825213318, 85.37753495920472], [23.114190086673233, 68.62796759880997], [27.587413086618774, 89.71689034963994], [24.165885314351954, 69.8113449685402], [31.094851613694885, 97.15494767530538], [19.21715281134722, 71.0888680502673], [27.278731433446065, 73.37541606108086], [22.166836398259058, 79.71630756604996], [26.11316877200369, 78.9872428647246], [23.44659630146775, 89.7564677201863], [17.553376572936834, 81.10737012715042], [24.556721532977413, 75.44700945685034], [26.528894102525747, 82.6827749996949], [19.635582155469436, 87.71811520093705], [28.653899231375725, 96.35457896080563], [27.512568202808453, 79.3641081971908], [12.394082299526856, 94.87824108686779], [14.074469178726813, 87.4540936542109], [24.84431525912166, 93.19969087012291], [29.106833294962502, 94.41711425733028], [28.6026992904752, 92.76689837877736]],\n",
              "                {&quot;blur&quot;: 15, &quot;maxZoom&quot;: 18, &quot;minOpacity&quot;: 0.5, &quot;radius&quot;: 25}\n",
              "            ).addTo(map_009534056ffa828a451b7daa3d7acef9);\n",
              "        \n",
              "&lt;/script&gt;\n",
              "&lt;/html&gt;\" style=\"position:absolute;width:100%;height:100%;left:0;top:0;border:none !important;\" allowfullscreen webkitallowfullscreen mozallowfullscreen></iframe></div></div>"
            ]
          },
          "metadata": {},
          "execution_count": 12
        }
      ],
      "source": [
        "import pandas as pd\n",
        "import random\n",
        "import folium\n",
        "from folium.plugins import HeatMap\n",
        "\n",
        "# Sample data for demonstration\n",
        "data = {\n",
        "    'Accident_ID': list(range(1, 101)),  # Unique ID for each accident\n",
        "    'Latitude': [random.uniform(8, 32) for _ in range(100)],  # Random latitude values within India's range\n",
        "    'Longitude': [random.uniform(68, 98) for _ in range(100)],  # Random longitude values within India's range\n",
        "    'Accident_Description': ['Accident {}'.format(i) for i in range(1, 101)],  # Description of the accident\n",
        "    'Road_Conditions': [random.choice(['Dry', 'Wet', 'Snow', 'Ice']) for _ in range(100)],  # Random road conditions\n",
        "    'Weather_Conditions': [random.choice(['Clear', 'Cloudy', 'Rainy', 'Foggy']) for _ in range(100)],  # Random weather conditions\n",
        "    'Time': [random.randint(0, 23) for _ in range(100)]  # Random time of day (0-23 hours)\n",
        "}\n",
        "\n",
        "# Create DataFrame\n",
        "df = pd.DataFrame(data)\n",
        "\n",
        "# Create a map centered around a specific location in India\n",
        "m = folium.Map(location=[20.5937, 78.9629], zoom_start=5)\n",
        "\n",
        "# Add heatmap of accident hotspots\n",
        "heat_data = [[row['Latitude'], row['Longitude']] for index, row in df.iterrows()]\n",
        "HeatMap(heat_data).add_to(m)\n",
        "\n",
        "# Save the map as an HTML file\n",
        "m.save('accident_heatmap.html')\n",
        "\n",
        "# Display the map\n",
        "m\n",
        "\n",
        "\n"
      ]
    }
  ]
}